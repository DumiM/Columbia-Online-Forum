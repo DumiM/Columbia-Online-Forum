{
 "cells": [
  {
   "cell_type": "code",
   "execution_count": null,
   "metadata": {
    "colab": {
     "base_uri": "https://localhost:8080/",
     "height": 918
    },
    "colab_type": "code",
    "id": "YRzPOuNKS01m",
    "outputId": "d0d5db50-966a-436a-dcf1-8dc3631ce499"
   },
   "outputs": [],
   "source": [
    "!pip install newspaper3k\n",
    "!pip install kafka-python"
   ]
  },
  {
   "cell_type": "code",
   "execution_count": 7,
   "metadata": {
    "colab": {
     "base_uri": "https://localhost:8080/",
     "height": 70
    },
    "colab_type": "code",
    "id": "Gut4ULTNb_-p",
    "outputId": "4ccd9a6b-fe73-4772-9552-39c53e766c27"
   },
   "outputs": [
    {
     "name": "stderr",
     "output_type": "stream",
     "text": [
      "[nltk_data] Downloading package punkt to /home/jovyan/nltk_data...\n",
      "[nltk_data]   Package punkt is already up-to-date!\n"
     ]
    },
    {
     "data": {
      "text/plain": [
       "True"
      ]
     },
     "execution_count": 7,
     "metadata": {},
     "output_type": "execute_result"
    }
   ],
   "source": [
    "import newspaper\n",
    "\n",
    "from kafka import KafkaProducer\n",
    "from kafka.errors import KafkaError\n",
    "from kafka import KafkaConsumer\n",
    "from json import loads, dumps\n",
    "\n",
    "import nltk\n",
    "nltk.download('punkt')"
   ]
  },
  {
   "cell_type": "markdown",
   "metadata": {},
   "source": [
    "## Kafka Producer Test"
   ]
  },
  {
   "cell_type": "code",
   "execution_count": 8,
   "metadata": {
    "colab": {},
    "colab_type": "code",
    "id": "7h0ujoBHNQMo"
   },
   "outputs": [],
   "source": [
    "producer = KafkaProducer(\n",
    "    bootstrap_servers=['3.18.83.70:9092'],\n",
    "    value_serializer=lambda x: dumps(x).encode('utf-8')\n",
    ")"
   ]
  },
  {
   "cell_type": "code",
   "execution_count": 9,
   "metadata": {
    "colab": {},
    "colab_type": "code",
    "id": "a3yPqcCeNZAU"
   },
   "outputs": [],
   "source": [
    "for e in range(10):\n",
    "    data = {'number' : e + 50}\n",
    "    producer.send('numtest', value=data)\n",
    "    \n",
    "producer.close()"
   ]
  },
  {
   "cell_type": "markdown",
   "metadata": {},
   "source": [
    "## Kafka Consumer Test"
   ]
  },
  {
   "cell_type": "code",
   "execution_count": 14,
   "metadata": {
    "colab": {},
    "colab_type": "code",
    "id": "0jCp8Di2Nepx"
   },
   "outputs": [],
   "source": [
    "consumer = KafkaConsumer(\n",
    "    'numtest',\n",
    "     bootstrap_servers=['3.18.83.70:9092'],\n",
    "     auto_offset_reset='earliest',\n",
    "     enable_auto_commit=False,\n",
    "     group_id='wqaeqwe'\n",
    ")"
   ]
  },
  {
   "cell_type": "code",
   "execution_count": null,
   "metadata": {
    "colab": {},
    "colab_type": "code",
    "id": "r6gNuoK0Nkbq"
   },
   "outputs": [],
   "source": [
    "for message in consumer:\n",
    "    key, value = message.key, message.value\n",
    "    print(key, value)"
   ]
  },
  {
   "cell_type": "code",
   "execution_count": 16,
   "metadata": {},
   "outputs": [],
   "source": [
    "consumer.close()"
   ]
  },
  {
   "cell_type": "markdown",
   "metadata": {},
   "source": [
    "## Newspaper Crawler"
   ]
  },
  {
   "cell_type": "code",
   "execution_count": null,
   "metadata": {
    "colab": {},
    "colab_type": "code",
    "id": "LddPppJYWLGW"
   },
   "outputs": [],
   "source": [
    "urls = ['http://cnn.com', \\\n",
    "        'http://nytimes.com', \\\n",
    "        'https://www.theguardian.com/us']"
   ]
  },
  {
   "cell_type": "code",
   "execution_count": 17,
   "metadata": {
    "colab": {},
    "colab_type": "code",
    "id": "qU65BK3fOHNB"
   },
   "outputs": [],
   "source": [
    "urls = ['http://cnn.com']"
   ]
  },
  {
   "cell_type": "code",
   "execution_count": 18,
   "metadata": {
    "colab": {},
    "colab_type": "code",
    "id": "A87I2-oCTN6I"
   },
   "outputs": [],
   "source": [
    "articles = []\n",
    "for url in urls:\n",
    "  articles.append(newspaper.build(url).articles)"
   ]
  },
  {
   "cell_type": "code",
   "execution_count": 20,
   "metadata": {
    "colab": {},
    "colab_type": "code",
    "id": "ovJRl0G2XU4T"
   },
   "outputs": [],
   "source": [
    "news_dict = []\n",
    "\n",
    "for i in range(len(articles)):\n",
    "  for art in articles[i]:\n",
    "    try:\n",
    "      art.download()\n",
    "      art.parse()\n",
    "\n",
    "      current_news = {}\n",
    "      current_news['source'] = urls[i]\n",
    "      current_news['title'] = art.title\n",
    "      current_news['authors'] = art.authors\n",
    "      current_news['content'] = art.text\n",
    "      current_news['publish_date'] = art.publish_date\n",
    "\n",
    "      art.nlp()\n",
    "      current_news['summary'] = art.summary\n",
    "      current_news['keywords'] = art.keywords\n",
    "      news_dict.append(current_news)\n",
    "    except:\n",
    "      pass\n",
    "    break"
   ]
  },
  {
   "cell_type": "code",
   "execution_count": 21,
   "metadata": {
    "colab": {},
    "colab_type": "code",
    "id": "S81WPDnTbxVZ"
   },
   "outputs": [
    {
     "data": {
      "text/plain": [
       "[{'source': 'http://cnn.com',\n",
       "  'title': 'Latest Headlines on CNN Business',\n",
       "  'authors': [],\n",
       "  'content': \"'SNL' asks GOP members what it would take to stop supporting Trump\",\n",
       "  'publish_date': None,\n",
       "  'summary': \"'SNL' asks GOP members what it would take to stop supporting Trump\",\n",
       "  'keywords': ['stop',\n",
       "   'supporting',\n",
       "   'gop',\n",
       "   'business',\n",
       "   'cnn',\n",
       "   'trump',\n",
       "   'latest',\n",
       "   'asks',\n",
       "   'snl',\n",
       "   'members',\n",
       "   'headlines']}]"
      ]
     },
     "execution_count": 21,
     "metadata": {},
     "output_type": "execute_result"
    }
   ],
   "source": [
    "news_dict"
   ]
  },
  {
   "cell_type": "code",
   "execution_count": null,
   "metadata": {
    "colab": {},
    "colab_type": "code",
    "id": "JHHE9XTXcSjH"
   },
   "outputs": [],
   "source": []
  }
 ],
 "metadata": {
  "colab": {
   "collapsed_sections": [],
   "name": "news_crawler.ipynb",
   "provenance": [],
   "version": "0.3.2"
  },
  "kernelspec": {
   "display_name": "Python 3",
   "language": "python",
   "name": "python3"
  },
  "language_info": {
   "codemirror_mode": {
    "name": "ipython",
    "version": 3
   },
   "file_extension": ".py",
   "mimetype": "text/x-python",
   "name": "python",
   "nbconvert_exporter": "python",
   "pygments_lexer": "ipython3",
   "version": "3.7.3"
  }
 },
 "nbformat": 4,
 "nbformat_minor": 2
}
