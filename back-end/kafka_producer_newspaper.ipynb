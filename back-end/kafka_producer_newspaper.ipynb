{
 "cells": [
  {
   "cell_type": "code",
   "execution_count": 1,
   "metadata": {
    "colab": {
     "base_uri": "https://localhost:8080/",
     "height": 423
    },
    "colab_type": "code",
    "id": "YRzPOuNKS01m",
    "outputId": "52dec9c8-85ba-41fc-b3fa-64668141b0f9"
   },
   "outputs": [
    {
     "name": "stdout",
     "output_type": "stream",
     "text": [
      "\bdone\n",
      "\u001b[?25h  Stored in directory: /home/jovyan/.cache/pip/wheels/83/15/9c/a3f1f67e7f7181170ad37d32e503c35da20627c013f438ed34\n",
      "  Building wheel for tinysegmenter (setup.py) ... \u001b[?25ldone\n",
      "\u001b[?25h  Stored in directory: /home/jovyan/.cache/pip/wheels/81/2b/43/a02ede72324dd40cdd7ca53aad718c7710628e91b8b0dc0f02\n",
      "  Building wheel for feedparser (setup.py) ... \u001b[?25ldone\n",
      "\u001b[?25h  Stored in directory: /home/jovyan/.cache/pip/wheels/8c/69/b7/f52763c41c5471df57703a0ef718a32a5e81ee35dcf6d4f97f\n",
      "  Building wheel for nltk (setup.py) ... \u001b[?25ldone\n",
      "\u001b[?25h  Stored in directory: /home/jovyan/.cache/pip/wheels/97/8a/10/d646015f33c525688e91986c4544c68019b19a473cb33d3b55\n",
      "Successfully built feedfinder2 jieba3k tinysegmenter feedparser nltk\n",
      "Installing collected packages: feedfinder2, jieba3k, cssselect, requests-file, tldextract, tinysegmenter, feedparser, nltk, lxml, newspaper3k\n",
      "Successfully installed cssselect-1.0.3 feedfinder2-0.0.4 feedparser-5.2.1 jieba3k-0.35.1 lxml-4.3.3 newspaper3k-0.2.8 nltk-3.4.1 requests-file-1.4.3 tinysegmenter-0.3 tldextract-2.2.1\n",
      "Collecting kafka-python\n",
      "\u001b[?25l  Downloading https://files.pythonhosted.org/packages/82/39/aebe3ad518513bbb2260dd84ac21e5c30af860cc4c95b32acbd64b9d9d0d/kafka_python-1.4.6-py2.py3-none-any.whl (259kB)\n",
      "\u001b[K     |████████████████████████████████| 266kB 3.1MB/s \n",
      "\u001b[?25hInstalling collected packages: kafka-python\n",
      "Successfully installed kafka-python-1.4.6\n"
     ]
    }
   ],
   "source": [
    "!pip install newspaper3k\n",
    "!pip install kafka-python"
   ]
  },
  {
   "cell_type": "code",
   "execution_count": 6,
   "metadata": {
    "colab": {
     "base_uri": "https://localhost:8080/",
     "height": 70
    },
    "colab_type": "code",
    "id": "Gut4ULTNb_-p",
    "outputId": "4ccd9a6b-fe73-4772-9552-39c53e766c27"
   },
   "outputs": [
    {
     "name": "stderr",
     "output_type": "stream",
     "text": [
      "[nltk_data] Downloading package punkt to /home/jovyan/nltk_data...\n",
      "[nltk_data]   Package punkt is already up-to-date!\n"
     ]
    },
    {
     "data": {
      "text/plain": [
       "True"
      ]
     },
     "execution_count": 6,
     "metadata": {},
     "output_type": "execute_result"
    }
   ],
   "source": [
    "import newspaper\n",
    "\n",
    "from kafka import KafkaProducer\n",
    "from kafka.errors import KafkaError\n",
    "from kafka import KafkaConsumer\n",
    "\n",
    "from json import loads, dumps\n",
    "import time\n",
    "\n",
    "import nltk\n",
    "nltk.download('punkt')"
   ]
  },
  {
   "cell_type": "code",
   "execution_count": 3,
   "metadata": {
    "colab": {},
    "colab_type": "code",
    "id": "7h0ujoBHNQMo"
   },
   "outputs": [],
   "source": [
    "producer = KafkaProducer(\n",
    "    bootstrap_servers=['3.18.83.70:9092'],\n",
    "    value_serializer=lambda x: dumps(x).encode('utf-8')\n",
    ")"
   ]
  },
  {
   "cell_type": "code",
   "execution_count": 4,
   "metadata": {
    "colab": {},
    "colab_type": "code",
    "id": "LddPppJYWLGW"
   },
   "outputs": [],
   "source": [
    "urls = ['http://cnn.com', \\\n",
    "        'http://nytimes.com', \\\n",
    "        'https://www.theguardian.com/us', \\\n",
    "        'https://news.google.com/', \\\n",
    "        'https://medium.com/', \\\n",
    "        'https://www.usatoday.com/']"
   ]
  },
  {
   "cell_type": "code",
   "execution_count": null,
   "metadata": {
    "colab": {},
    "colab_type": "code",
    "id": "A87I2-oCTN6I"
   },
   "outputs": [
    {
     "name": "stdout",
     "output_type": "stream",
     "text": [
      "Send start, the news title is How to Train Your Dragon: The Hidden World\n",
      "Send start, the news title is The LEGO Movie:The Second Part\n",
      "Send start, the news title is A Game of Thrones: A Song of Ice and Fire: Book One by George R. R. Martin\n",
      "Send start, the news title is The Art Of War by Sun Tzu\n",
      "Send start, the news title is The Mueller Report by The Washington Post\n",
      "Send start, the news title is The Subtle Art of Not Giving a F*ck: A Counterintuitive Approach to Living a Good Life by Mark Manson\n",
      "Send start, the news title is Where the Crawdads Sing by Delia Owens\n",
      "Send start, the news title is Unfu*k Yourself: Get Out of Your Head and into Your Life by Gary John Bishop\n",
      "Send start, the news title is A Game of Thrones: A Song of Ice and Fire: Book One by George R. R. Martin\n",
      "Send start, the news title is A Clash of Kings: A Song of Ice and Fire: Book Two by George R. R. Martin\n",
      "Send start, the news title is The Trouble With Vampires: An Argeneau Novel by Lynsay Sands\n",
      "Send start, the news title is What We Do in the Shadows\n",
      "Send start, the news title is Broken Throne: A Red Queen Collection by Victoria Aveyard\n",
      "Send start, the news title is Every Tool's a Hammer: Life Is What You Make It by Adam Savage\n",
      "Send start, the news title is Stop Doing That Sh*t: End Self-Sabotage and Demand Your Life Back by Gary John Bishop\n",
      "Send start, the news title is Spider-Man: Into The Spider-Verse\n",
      "Send start, the news title is Before he Kills (A Mackenzie White Mystery—Book 1) by Blake Pierce\n",
      "Send start, the news title is For Now and Forever (The Inn at Sunset Harbor—Book 1) by Sophie Love\n",
      "Send start, the news title is The Path Made Clear: Discovering Your Life's Direction and Purpose by Oprah Winfrey\n",
      "Send start, the news title is The Heart of the Five Love Languages by Gary Chapman\n",
      "Send start, the news title is Anne of Green Gables by L. M. Montgomery\n",
      "Send start, the news title is The Greatest Salesman in the World: Volume 1 by Og Mandino\n",
      "Send start, the news title is 12 Rules For Life By Jordan Peterson: Key Takeaways, Summary & Analysis Included by Improvement Audio\n",
      "Send start, the news title is Penguin and seal poop gives life to Antarctica, new study finds\n",
      "Send start, the news title is The best credit cards for hotel guests\n",
      "Send start, the news title is The 6 best credit cards that will save you the most money\n",
      "Send start, the news title is Here's how to make dog-friendly ice cream treats\n",
      "Send start, the news title is Monster Hunter World Iceborne expansion: What we know so far\n",
      "Send start, the news title is 35 amazing deals you can get at Anthropologie's massive Mother's Day weekend sale\n",
      "Send start, the news title is Supreme Court says iPhone users can sue Apple for excessive prices on its App Store\n",
      "Send start, the news title is Stars of Apple: Company goes big for launch of Apple TV+ streaming service\n",
      "Send start, the news title is Smart Lighting products from Amazon, Philips, WEMO, Eufy and others\n",
      "Send start, the news title is Galaxy S10: A look at the Galaxy S line through the years\n",
      "Send start, the news title is 10 smartwatches and fitness trackers for wellness monitoring\n",
      "Send start, the news title is What you can see with a drone: Amazing photographs\n",
      "Send start, the news title is Hardaway adds Lester Quinones to Memphis' recruiting class\n",
      "Send start, the news title is How much for a can of beans? Red Dead Online's virtual world grapples with real economic problems\n",
      "Send start, the news title is Financial planning: How to meet your money goals in 2019\n",
      "Send start, the news title is Remember your favorite car, automakers are resurrecting past models\n",
      "Send start, the news title is The coolest cars from the 2019 Detroit auto show\n",
      "Send start, the news title is CES Editors' Choice Awards: The best and coolest tech to expect in 2019\n",
      "Send start, the news title is Cities where it's easiest to buy a house for less than $100K\n",
      "Send start, the news title is Remember your favorite car, automakers are resurrecting past models\n",
      "Send start, the news title is The coolest cars from the 2019 Detroit auto show\n",
      "Send start, the news title is CES Editors' Choice Awards: The best and coolest tech to expect in 2019\n",
      "Send start, the news title is Cities where it's easiest to buy a house for less than $100K\n",
      "Send start, the news title is Canine fashions reach new heights\n",
      "Send start, the news title is Ex-NFL head coach, longtime defensive coordinator Gunther Cunningham dead at 72\n",
      "Article `download()` failed with 404 Client Error: Not Found for url: https://cm.usatoday.com/story/sports/nfl/2019/05/13/gunther-cunningham-coach-defensive-coordinator-dies/1187977001/ on URL https://cm.usatoday.com/story/sports/nfl/2019/05/13/gunther-cunningham-coach-defensive-coordinator-dies/1187977001/\n",
      "Send start, the news title is Top 10 Credit Cards For Excellent Credit\n",
      "Send start, the news title is The Fastest Way To Pay Off $10,000 In Credit Card Debt\n"
     ]
    }
   ],
   "source": [
    "while True:\n",
    "    articles = []\n",
    "    for url in urls:\n",
    "        articles.append(newspaper.build(url).articles)\n",
    "    \n",
    "    for i in range(len(articles)):\n",
    "        for art in articles[i]:\n",
    "            try:\n",
    "                art.download()\n",
    "                art.parse()\n",
    "\n",
    "                current_news = {}\n",
    "                current_news['source'] = urls[i]\n",
    "                current_news['title'] = art.title\n",
    "                current_news['authors'] = art.authors\n",
    "                current_news['content'] = art.text\n",
    "                current_news['publish_date'] = str(art.publish_date)\n",
    "                current_news['link'] = art.url\n",
    "\n",
    "                art.nlp()\n",
    "                current_news['summary'] = art.summary\n",
    "                current_news['keywords'] = art.keywords\n",
    "\n",
    "                print(\"Send start, the news title is {}\".format(current_news['title']))\n",
    "                producer.send('testNews', value=current_news)\n",
    "            except Exception as e:\n",
    "                print(e)\n",
    "        \n",
    "    time.sleep(30)"
   ]
  },
  {
   "cell_type": "code",
   "execution_count": null,
   "metadata": {
    "colab": {},
    "colab_type": "code",
    "id": "S81WPDnTbxVZ"
   },
   "outputs": [],
   "source": [
    "producer.close()"
   ]
  },
  {
   "cell_type": "code",
   "execution_count": null,
   "metadata": {
    "colab": {},
    "colab_type": "code",
    "id": "JHHE9XTXcSjH"
   },
   "outputs": [],
   "source": []
  }
 ],
 "metadata": {
  "colab": {
   "collapsed_sections": [],
   "name": "news_crawler.ipynb",
   "provenance": [],
   "version": "0.3.2"
  },
  "kernelspec": {
   "display_name": "Python 3",
   "language": "python",
   "name": "python3"
  },
  "language_info": {
   "codemirror_mode": {
    "name": "ipython",
    "version": 3
   },
   "file_extension": ".py",
   "mimetype": "text/x-python",
   "name": "python",
   "nbconvert_exporter": "python",
   "pygments_lexer": "ipython3",
   "version": "3.7.3"
  }
 },
 "nbformat": 4,
 "nbformat_minor": 2
}
